{
 "cells": [
  {
   "cell_type": "markdown",
   "metadata": {},
   "source": [
    "# Document Clustering and Topic Modeling"
   ]
  },
  {
   "cell_type": "markdown",
   "metadata": {},
   "source": [
    "In this project, we will analyze the underlying structure of documents automatically and visualize the clustering result using natural language processing models/tools."
   ]
  },
  {
   "cell_type": "markdown",
   "metadata": {},
   "source": [
    "## Contents"
   ]
  },
  {
   "cell_type": "markdown",
   "metadata": {},
   "source": [
    "<ul>\n",
    "<li>[Part 1: Load Data](#Part-1:-Load-Data)\n",
    "<li>[Part 2: Tokenizing and Stemming](#Part-2:-Tokenizing-and-Stemming)\n",
    "<li>[Part 3: TF-IDF](#Part-3:-TF-IDF)\n",
    "<li>[Part 4: K-means clustering](#Part-4:-K-means-clustering)\n",
    "<li>[Part 5: Topic Modeling - Latent Dirichlet Allocation](#Part-5:-Topic-Modeling---Latent-Dirichlet-Allocation)\n",
    "</ul>"
   ]
  },
  {
   "cell_type": "markdown",
   "metadata": {},
   "source": [
    "# Part 1: Load Data"
   ]
  },
  {
   "cell_type": "code",
   "execution_count": 141,
   "metadata": {},
   "outputs": [],
   "source": [
    "import warnings\n",
    "warnings.filterwarnings('ignore')\n",
    "import numpy as np\n",
    "import pandas as pd\n",
    "import nltk\n",
    "import re\n",
    "import os\n",
    "\n",
    "from sklearn import decomposition\n",
    "from sklearn.feature_extraction.text import TfidfVectorizer\n",
    "import matplotlib.pyplot as plt\n",
    "import lda\n",
    "pd.set_option('display.max_columns', None)\n",
    "pd.set_option('display.max_rows', None)"
   ]
  },
  {
   "cell_type": "markdown",
   "metadata": {},
   "source": [
    "Read data from files. In summary, we have 100 titles and 100 synoposes (combined from imdb and wiki)."
   ]
  },
  {
   "cell_type": "code",
   "execution_count": 142,
   "metadata": {},
   "outputs": [],
   "source": [
    "#import three lists: titles and wikipedia synopses\n",
    "titles = open('../data/title_list.txt').read().split('\\n')\n",
    "titles = titles[:100] #ensures that only the first 100 are read in\n",
    "\n",
    "#The wiki synopses and imdb synopses of each movie is seperated by the keywords \"BREAKS HERE\". \n",
    "#Each synoposes may consist of multiple paragraphs.\n",
    "synopses_wiki = open('../data/synopses_list_wiki.txt').read().split('\\n BREAKS HERE')\n",
    "synopses_wiki = synopses_wiki[:100]\n",
    "\n",
    "synopses_imdb = open('../data/synopses_list_imdb.txt').read().split('\\n BREAKS HERE')\n",
    "synopses_imdb = synopses_imdb[:100]\n",
    "\n",
    "#Combine imdb and wiki to get full synoposes for the top 100 movies. \n",
    "synopses = []\n",
    "for i in range(len(synopses_wiki)):\n",
    "    item = synopses_wiki[i] + synopses_imdb[i]\n",
    "    synopses.append(item)\n",
    "    \n",
    "#Because these synopses have already been ordered in popularity order, \n",
    "#we just need to generate a list of ordered numbers for future usage.\n",
    "ranks = range(len(titles))"
   ]
  },
  {
   "cell_type": "markdown",
   "metadata": {},
   "source": [
    "# Part 2: Tokenizing and Stemming"
   ]
  },
  {
   "cell_type": "markdown",
   "metadata": {
    "collapsed": true
   },
   "source": [
    "Load stopwords and stemmer function from NLTK library.\n",
    "Stop words are words like \"a\", \"the\", or \"in\" which don't convey significant meaning.\n",
    "Stemming is the process of breaking a word down into its root."
   ]
  },
  {
   "cell_type": "code",
   "execution_count": 38,
   "metadata": {},
   "outputs": [
    {
     "name": "stdout",
     "output_type": "stream",
     "text": [
      "We use 179 stop-words from nltk library.\n",
      "['i', 'me', 'my', 'myself', 'we', 'our', 'ours', 'ourselves', 'you', \"you're\", \"you've\", \"you'll\", \"you'd\", 'your', 'yours', 'yourself', 'yourselves', 'he', 'him', 'his']\n"
     ]
    }
   ],
   "source": [
    "# Use nltk's English stopwords.\n",
    "stopwords = nltk.corpus.stopwords.words('english')\n",
    "\n",
    "print (\"We use \" + str(len(stopwords)) + \" stop-words from nltk library.\")\n",
    "print (stopwords[:20])"
   ]
  },
  {
   "cell_type": "code",
   "execution_count": 5,
   "metadata": {},
   "outputs": [],
   "source": [
    "from nltk.stem.snowball import SnowballStemmer\n",
    "stemmer = SnowballStemmer(\"english\")\n",
    "\n",
    "def tokenization_and_stemming(text):\n",
    "    #separate by sentence first.\n",
    "    tokens = [word.lower() for sent in nltk.sent_tokenize(text) for word in nltk.word_tokenize(sent) if word not in stopwords]\n",
    "#     tokens=[]\n",
    "#     for sent in nltk.sent_tokenize(text):\n",
    "#         for word in nltk.word_tokenize(sent):\n",
    "#             if word not in stopwords:\n",
    "#                 tokens.append(word);   \n",
    "    filtered_tokens = []\n",
    "    # filter out any tokens not containing letters (e.g., numeric tokens, raw punctuation)\n",
    "    for token in tokens:\n",
    "        if re.search('[a-zA-Z]', token):\n",
    "            filtered_tokens.append(token)\n",
    "    stems = [stemmer.stem(t) for t in filtered_tokens]\n",
    "    return stems\n",
    "\n",
    "def tokenization(text):\n",
    "    tokens = [word.lower() for sent in nltk.sent_tokenize(text) for word in nltk.word_tokenize(sent) if word not in stopwords]\n",
    "    filtered_tokens = []\n",
    "    for token in tokens:\n",
    "        if re.search('[a-zA-Z]', token):\n",
    "            filtered_tokens.append(token)\n",
    "    return filtered_tokens"
   ]
  },
  {
   "cell_type": "code",
   "execution_count": 39,
   "metadata": {},
   "outputs": [
    {
     "data": {
      "text/plain": [
       "['depaul', 'univers', 'famous', 'univers', 'world']"
      ]
     },
     "execution_count": 39,
     "metadata": {},
     "output_type": "execute_result"
    }
   ],
   "source": [
    "# take an example to try\n",
    "tokenization_and_stemming(\"DePaul University is an famous university in the world.\")"
   ]
  },
  {
   "cell_type": "markdown",
   "metadata": {},
   "source": [
    "Use our defined functions to analyze (i.e. tokenize, stem) our synoposes."
   ]
  },
  {
   "cell_type": "code",
   "execution_count": 7,
   "metadata": {},
   "outputs": [],
   "source": [
    "docs_stemmed = []\n",
    "docs_tokenized = []\n",
    "for i in synopses:\n",
    "    tokenized_and_stemmed_results = tokenization_and_stemming(i)\n",
    "    docs_stemmed.extend(tokenized_and_stemmed_results)\n",
    "    \n",
    "    tokenized_results = tokenization(i)\n",
    "    docs_tokenized.extend(tokenized_results)"
   ]
  },
  {
   "cell_type": "markdown",
   "metadata": {},
   "source": [
    "Create a mapping from stemmed words to original tokenized words for result interpretation."
   ]
  },
  {
   "cell_type": "code",
   "execution_count": 54,
   "metadata": {},
   "outputs": [
    {
     "name": "stdout",
     "output_type": "stream",
     "text": [
      "on\n"
     ]
    }
   ],
   "source": [
    "vocab_frame_dict = {docs_stemmed[x]:docs_tokenized[x] for x in range(len(docs_stemmed))}\n",
    "print (vocab_frame_dict['on'])"
   ]
  },
  {
   "cell_type": "markdown",
   "metadata": {
    "collapsed": true
   },
   "source": [
    "# Part 3: TF-IDF（Term Frequency-Inverse Document Frequency）"
   ]
  },
  {
   "cell_type": "code",
   "execution_count": 55,
   "metadata": {},
   "outputs": [
    {
     "name": "stdout",
     "output_type": "stream",
     "text": [
      "In total, there are 100 synoposes and 538 terms.\n"
     ]
    }
   ],
   "source": [
    "#define vectorizer parameters\n",
    "#max_df, max document frequency\n",
    "tfidf_model = TfidfVectorizer(max_df=0.8, max_features=200000,\n",
    "                                 min_df=0.2, stop_words='english',\n",
    "                                 use_idf=True, tokenizer=tokenization_and_stemming, ngram_range=(1,1))\n",
    "\n",
    "tfidf_matrix = tfidf_model.fit_transform(synopses) #fit the vectorizer to synopses\n",
    "\n",
    "print (\"In total, there are \" + str(tfidf_matrix.shape[0]) + \\\n",
    "      \" synoposes and \" + str(tfidf_matrix.shape[1]) + \" terms.\")"
   ]
  },
  {
   "cell_type": "code",
   "execution_count": 64,
   "metadata": {},
   "outputs": [
    {
     "data": {
      "text/plain": [
       "matrix([[0.01548417, 0.        , 0.        , ..., 0.08116415, 0.05900743,\n",
       "         0.0406339 ],\n",
       "        [0.05836682, 0.        , 0.0244088 , ..., 0.05948916, 0.        ,\n",
       "         0.00957297],\n",
       "        [0.        , 0.        , 0.01960667, ..., 0.        , 0.        ,\n",
       "         0.        ],\n",
       "        ...,\n",
       "        [0.01356779, 0.        , 0.        , ..., 0.        , 0.        ,\n",
       "         0.01780244],\n",
       "        [0.01434229, 0.0296827 , 0.03598737, ..., 0.00835319, 0.02732796,\n",
       "         0.01881867],\n",
       "        [0.20623577, 0.        , 0.        , ..., 0.06005757, 0.        ,\n",
       "         0.06765104]])"
      ]
     },
     "execution_count": 64,
     "metadata": {},
     "output_type": "execute_result"
    }
   ],
   "source": [
    "tfidf_matrix.todense()###words importance"
   ]
  },
  {
   "cell_type": "code",
   "execution_count": 10,
   "metadata": {},
   "outputs": [
    {
     "data": {
      "text/plain": [
       "{'analyzer': 'word',\n",
       " 'binary': False,\n",
       " 'decode_error': 'strict',\n",
       " 'dtype': numpy.int64,\n",
       " 'encoding': 'utf-8',\n",
       " 'input': 'content',\n",
       " 'lowercase': True,\n",
       " 'max_df': 0.8,\n",
       " 'max_features': 200000,\n",
       " 'min_df': 0.2,\n",
       " 'ngram_range': (1, 1),\n",
       " 'norm': 'l2',\n",
       " 'preprocessor': None,\n",
       " 'smooth_idf': True,\n",
       " 'stop_words': 'english',\n",
       " 'strip_accents': None,\n",
       " 'sublinear_tf': False,\n",
       " 'token_pattern': '(?u)\\\\b\\\\w\\\\w+\\\\b',\n",
       " 'tokenizer': <function __main__.tokenization_and_stemming(text)>,\n",
       " 'use_idf': True,\n",
       " 'vocabulary': None}"
      ]
     },
     "execution_count": 10,
     "metadata": {},
     "output_type": "execute_result"
    }
   ],
   "source": [
    "tfidf_model.get_params()"
   ]
  },
  {
   "cell_type": "markdown",
   "metadata": {},
   "source": [
    "Save the terms identified by TF-IDF."
   ]
  },
  {
   "cell_type": "code",
   "execution_count": 11,
   "metadata": {},
   "outputs": [],
   "source": [
    "tf_selected_words = tfidf_model.get_feature_names()"
   ]
  },
  {
   "cell_type": "markdown",
   "metadata": {},
   "source": [
    "# Calculate Document Similarity"
   ]
  },
  {
   "cell_type": "markdown",
   "metadata": {},
   "source": [
    "Using cosine value to get vector angle, that could represent similarity."
   ]
  },
  {
   "cell_type": "code",
   "execution_count": 65,
   "metadata": {
    "scrolled": false
   },
   "outputs": [
    {
     "name": "stdout",
     "output_type": "stream",
     "text": [
      "[[1.         0.1996283  0.23342595 ... 0.3581728  0.3277855  0.17714484]\n",
      " [0.1996283  1.         0.26626879 ... 0.26910321 0.22856581 0.10870124]\n",
      " [0.23342595 0.26626879 1.         ... 0.27738654 0.24669308 0.12805055]\n",
      " ...\n",
      " [0.3581728  0.26910321 0.27738654 ... 1.         0.55040973 0.08151334]\n",
      " [0.3277855  0.22856581 0.24669308 ... 0.55040973 1.         0.13005234]\n",
      " [0.17714484 0.10870124 0.12805055 ... 0.08151334 0.13005234 1.        ]]\n"
     ]
    }
   ],
   "source": [
    "from sklearn.metrics.pairwise import cosine_similarity\n",
    "cos_matrix = cosine_similarity(tfidf_matrix)\n",
    "print (cos_matrix)"
   ]
  },
  {
   "cell_type": "markdown",
   "metadata": {},
   "source": [
    "# Part 4: K-means clustering"
   ]
  },
  {
   "cell_type": "code",
   "execution_count": 67,
   "metadata": {
    "scrolled": true
   },
   "outputs": [
    {
     "name": "stdout",
     "output_type": "stream",
     "text": [
      "100\n"
     ]
    }
   ],
   "source": [
    "from sklearn.cluster import KMeans\n",
    "\n",
    "num_clusters = 5\n",
    "km = KMeans(n_clusters=num_clusters)\n",
    "km.fit(tfidf_matrix)\n",
    "clusters = km.labels_.tolist()\n",
    "print(len(clusters))"
   ]
  },
  {
   "cell_type": "markdown",
   "metadata": {},
   "source": [
    "## 4.1. Analyze K-means Result"
   ]
  },
  {
   "cell_type": "code",
   "execution_count": 14,
   "metadata": {},
   "outputs": [],
   "source": [
    "# create DataFrame films from all of the input files.\n",
    "films = { 'title': titles, 'rank': ranks, 'synopsis': synopses, 'cluster': clusters}\n",
    "frame = pd.DataFrame(films, index = [clusters] , columns = ['rank', 'title', 'cluster'])"
   ]
  },
  {
   "cell_type": "code",
   "execution_count": 15,
   "metadata": {},
   "outputs": [
    {
     "data": {
      "text/html": [
       "<div>\n",
       "<style scoped>\n",
       "    .dataframe tbody tr th:only-of-type {\n",
       "        vertical-align: middle;\n",
       "    }\n",
       "\n",
       "    .dataframe tbody tr th {\n",
       "        vertical-align: top;\n",
       "    }\n",
       "\n",
       "    .dataframe thead th {\n",
       "        text-align: right;\n",
       "    }\n",
       "</style>\n",
       "<table border=\"1\" class=\"dataframe\">\n",
       "  <thead>\n",
       "    <tr style=\"text-align: right;\">\n",
       "      <th></th>\n",
       "      <th>rank</th>\n",
       "      <th>title</th>\n",
       "      <th>cluster</th>\n",
       "    </tr>\n",
       "  </thead>\n",
       "  <tbody>\n",
       "    <tr>\n",
       "      <th>4</th>\n",
       "      <td>0</td>\n",
       "      <td>The Godfather</td>\n",
       "      <td>4</td>\n",
       "    </tr>\n",
       "    <tr>\n",
       "      <th>2</th>\n",
       "      <td>1</td>\n",
       "      <td>The Shawshank Redemption</td>\n",
       "      <td>2</td>\n",
       "    </tr>\n",
       "    <tr>\n",
       "      <th>4</th>\n",
       "      <td>2</td>\n",
       "      <td>Schindler's List</td>\n",
       "      <td>4</td>\n",
       "    </tr>\n",
       "    <tr>\n",
       "      <th>4</th>\n",
       "      <td>3</td>\n",
       "      <td>Raging Bull</td>\n",
       "      <td>4</td>\n",
       "    </tr>\n",
       "    <tr>\n",
       "      <th>3</th>\n",
       "      <td>4</td>\n",
       "      <td>Casablanca</td>\n",
       "      <td>3</td>\n",
       "    </tr>\n",
       "    <tr>\n",
       "      <th>2</th>\n",
       "      <td>5</td>\n",
       "      <td>One Flew Over the Cuckoo's Nest</td>\n",
       "      <td>2</td>\n",
       "    </tr>\n",
       "    <tr>\n",
       "      <th>1</th>\n",
       "      <td>6</td>\n",
       "      <td>Gone with the Wind</td>\n",
       "      <td>1</td>\n",
       "    </tr>\n",
       "    <tr>\n",
       "      <th>4</th>\n",
       "      <td>7</td>\n",
       "      <td>Citizen Kane</td>\n",
       "      <td>4</td>\n",
       "    </tr>\n",
       "    <tr>\n",
       "      <th>2</th>\n",
       "      <td>8</td>\n",
       "      <td>The Wizard of Oz</td>\n",
       "      <td>2</td>\n",
       "    </tr>\n",
       "    <tr>\n",
       "      <th>1</th>\n",
       "      <td>9</td>\n",
       "      <td>Titanic</td>\n",
       "      <td>1</td>\n",
       "    </tr>\n",
       "  </tbody>\n",
       "</table>\n",
       "</div>"
      ],
      "text/plain": [
       "   rank                            title  cluster\n",
       "4     0                    The Godfather        4\n",
       "2     1         The Shawshank Redemption        2\n",
       "4     2                 Schindler's List        4\n",
       "4     3                      Raging Bull        4\n",
       "3     4                       Casablanca        3\n",
       "2     5  One Flew Over the Cuckoo's Nest        2\n",
       "1     6               Gone with the Wind        1\n",
       "4     7                     Citizen Kane        4\n",
       "2     8                 The Wizard of Oz        2\n",
       "1     9                          Titanic        1"
      ]
     },
     "execution_count": 15,
     "metadata": {},
     "output_type": "execute_result"
    }
   ],
   "source": [
    "frame.head(10)"
   ]
  },
  {
   "cell_type": "code",
   "execution_count": 16,
   "metadata": {},
   "outputs": [
    {
     "name": "stdout",
     "output_type": "stream",
     "text": [
      "Number of films included in each cluster:\n"
     ]
    },
    {
     "data": {
      "text/html": [
       "<div>\n",
       "<style scoped>\n",
       "    .dataframe tbody tr th:only-of-type {\n",
       "        vertical-align: middle;\n",
       "    }\n",
       "\n",
       "    .dataframe tbody tr th {\n",
       "        vertical-align: top;\n",
       "    }\n",
       "\n",
       "    .dataframe thead th {\n",
       "        text-align: right;\n",
       "    }\n",
       "</style>\n",
       "<table border=\"1\" class=\"dataframe\">\n",
       "  <thead>\n",
       "    <tr style=\"text-align: right;\">\n",
       "      <th></th>\n",
       "      <th>cluster</th>\n",
       "    </tr>\n",
       "  </thead>\n",
       "  <tbody>\n",
       "    <tr>\n",
       "      <th>2</th>\n",
       "      <td>36</td>\n",
       "    </tr>\n",
       "    <tr>\n",
       "      <th>4</th>\n",
       "      <td>28</td>\n",
       "    </tr>\n",
       "    <tr>\n",
       "      <th>3</th>\n",
       "      <td>17</td>\n",
       "    </tr>\n",
       "    <tr>\n",
       "      <th>1</th>\n",
       "      <td>16</td>\n",
       "    </tr>\n",
       "    <tr>\n",
       "      <th>0</th>\n",
       "      <td>3</td>\n",
       "    </tr>\n",
       "  </tbody>\n",
       "</table>\n",
       "</div>"
      ],
      "text/plain": [
       "   cluster\n",
       "2       36\n",
       "4       28\n",
       "3       17\n",
       "1       16\n",
       "0        3"
      ]
     },
     "execution_count": 16,
     "metadata": {},
     "output_type": "execute_result"
    }
   ],
   "source": [
    "print (\"Number of films included in each cluster:\")\n",
    "frame['cluster'].value_counts().to_frame()"
   ]
  },
  {
   "cell_type": "code",
   "execution_count": 17,
   "metadata": {
    "scrolled": true
   },
   "outputs": [
    {
     "name": "stdout",
     "output_type": "stream",
     "text": [
      "Average rank (1 to 100) per cluster:\n"
     ]
    },
    {
     "data": {
      "text/html": [
       "<div>\n",
       "<style scoped>\n",
       "    .dataframe tbody tr th:only-of-type {\n",
       "        vertical-align: middle;\n",
       "    }\n",
       "\n",
       "    .dataframe tbody tr th {\n",
       "        vertical-align: top;\n",
       "    }\n",
       "\n",
       "    .dataframe thead th {\n",
       "        text-align: right;\n",
       "    }\n",
       "</style>\n",
       "<table border=\"1\" class=\"dataframe\">\n",
       "  <thead>\n",
       "    <tr style=\"text-align: right;\">\n",
       "      <th></th>\n",
       "      <th>rank</th>\n",
       "    </tr>\n",
       "    <tr>\n",
       "      <th>cluster</th>\n",
       "      <th></th>\n",
       "    </tr>\n",
       "  </thead>\n",
       "  <tbody>\n",
       "    <tr>\n",
       "      <th>0</th>\n",
       "      <td>51.333333</td>\n",
       "    </tr>\n",
       "    <tr>\n",
       "      <th>1</th>\n",
       "      <td>47.187500</td>\n",
       "    </tr>\n",
       "    <tr>\n",
       "      <th>2</th>\n",
       "      <td>56.972222</td>\n",
       "    </tr>\n",
       "    <tr>\n",
       "      <th>3</th>\n",
       "      <td>36.529412</td>\n",
       "    </tr>\n",
       "    <tr>\n",
       "      <th>4</th>\n",
       "      <td>48.892857</td>\n",
       "    </tr>\n",
       "  </tbody>\n",
       "</table>\n",
       "</div>"
      ],
      "text/plain": [
       "              rank\n",
       "cluster           \n",
       "0        51.333333\n",
       "1        47.187500\n",
       "2        56.972222\n",
       "3        36.529412\n",
       "4        48.892857"
      ]
     },
     "execution_count": 17,
     "metadata": {},
     "output_type": "execute_result"
    }
   ],
   "source": [
    "grouped = frame['rank'].groupby(frame['cluster'])\n",
    "print (\"Average rank (1 to 100) per cluster:\")\n",
    "grouped.mean().to_frame()"
   ]
  },
  {
   "cell_type": "code",
   "execution_count": 18,
   "metadata": {
    "scrolled": false
   },
   "outputs": [
    {
     "name": "stdout",
     "output_type": "stream",
     "text": [
      "<Document clustering result by K-means>\n",
      "Cluster 0 words:musical,performed,filmed,singing,dance,join,\n",
      "Cluster 0 titles (3 movies): \n",
      "Singin' in the Rain, Amadeus, Yankee Doodle Dandy\n",
      "\n",
      "Cluster 1 words:george,marries,home,love,war,woman,\n",
      "Cluster 1 titles (16 movies): \n",
      "Gone with the Wind, Titanic, Forrest Gump, E.T. the Extra-Terrestrial, It's a Wonderful Life, Gandhi, The Philadelphia Story, An American in Paris, The Best Years of Our Lives, City Lights, The King's Speech, A Place in the Sun, Out of Africa, Tootsie, Network, Wuthering Heights\n",
      "\n",
      "Cluster 2 words:car,police,killing,mr.,n't,drives,\n",
      "Cluster 2 titles (36 movies): \n",
      "The Shawshank Redemption, One Flew Over the Cuckoo's Nest, The Wizard of Oz, Psycho, Sunset Blvd., Vertigo, West Side Story, 2001: A Space Odyssey, The Silence of the Lambs, Chinatown, Some Like It Hot, 12 Angry Men, Unforgiven, Rocky, Butch Cassidy and the Sundance Kid, The Treasure of the Sierra Madre, The Deer Hunter, The French Connection, It Happened One Night, Good Will Hunting, Fargo, The Green Mile, Close Encounters of the Third Kind, Nashville, The Graduate, American Graffiti, Pulp Fiction, The African Queen, The Maltese Falcon, A Clockwork Orange, Taxi Driver, Double Indemnity, Rebel Without a Cause, Rear Window, The Third Man, North by Northwest\n",
      "\n",
      "Cluster 3 words:soldiers,commanded,army,captain,killing,general,\n",
      "Cluster 3 titles (17 movies): \n",
      "Casablanca, Lawrence of Arabia, The Sound of Music, Star Wars, The Bridge on the River Kwai, Dr. Strangelove or: How I Learned to Stop Worrying and Love the Bomb, Apocalypse Now, The Lord of the Rings: The Return of the King, Gladiator, From Here to Eternity, Saving Private Ryan, Raiders of the Lost Ark, Patton, Platoon, Dances with Wolves, All Quiet on the Western Front, Mutiny on the Bounty\n",
      "\n",
      "Cluster 4 words:family,father,new,brother,friend,york,\n",
      "Cluster 4 titles (28 movies): \n",
      "The Godfather, Schindler's List, Raging Bull, Citizen Kane, The Godfather: Part II, On the Waterfront, A Streetcar Named Desire, To Kill a Mockingbird, My Fair Lady, Ben-Hur, Doctor Zhivago, Jaws, Braveheart, The Good, the Bad and the Ugly, The Apartment, High Noon, The Pianist, Goodfellas, The Exorcist, Midnight Cowboy, Mr. Smith Goes to Washington, Rain Man, Annie Hall, Terms of Endearment, Giant, The Grapes of Wrath, Shane, Stagecoach\n",
      "\n"
     ]
    }
   ],
   "source": [
    "print (\"<Document clustering result by K-means>\")\n",
    "\n",
    "#km.cluster_centers_ denotes the importances of each items in centroid.\n",
    "#We need to sort it in decreasing-order and get the top k items.\n",
    "order_centroids = km.cluster_centers_.argsort()[:, ::-1] \n",
    "\n",
    "Cluster_keywords_summary = {}\n",
    "for i in range(num_clusters):\n",
    "    print (\"Cluster \" + str(i) + \" words:\", end='')\n",
    "    Cluster_keywords_summary[i] = []\n",
    "    for ind in order_centroids[i, :6]: #replace 6 with n words per cluster\n",
    "        Cluster_keywords_summary[i].append(vocab_frame_dict[tf_selected_words[ind]])\n",
    "        print (vocab_frame_dict[tf_selected_words[ind]] + \",\", end='')\n",
    "    print ()\n",
    "    #Here ix means index, which is the clusterID of each item.\n",
    "    #Without tolist, the values result from dataframe is <type 'numpy.ndarray'>\n",
    "    cluster_movies = frame.ix[i]['title'].values.tolist()\n",
    "    print (\"Cluster \" + str(i) + \" titles (\" + str(len(cluster_movies)) + \" movies): \") \n",
    "    print (\", \".join(cluster_movies))\n",
    "    print()"
   ]
  },
  {
   "cell_type": "markdown",
   "metadata": {},
   "source": [
    "## 4.2. Plot K-means Result"
   ]
  },
  {
   "cell_type": "code",
   "execution_count": 19,
   "metadata": {},
   "outputs": [],
   "source": [
    "pca = decomposition.PCA(n_components=2)\n",
    "tfidf_matrix_np=tfidf_matrix.toarray()\n",
    "pca.fit(tfidf_matrix_np)\n",
    "X = pca.transform(tfidf_matrix_np)\n",
    "\n",
    "xs, ys = X[:, 0], X[:, 1]\n",
    "\n",
    "#set up colors per clusters using a dict\n",
    "cluster_colors = {0: '#1b9e77', 1: '#d95f02', 2: '#7570b3', 3: '#e7298a', 4: '#66a61e'}\n",
    "#set up cluster names using a dict\n",
    "cluster_names = {}\n",
    "for i in range(num_clusters):\n",
    "    cluster_names[i] = \", \".join(Cluster_keywords_summary[i])"
   ]
  },
  {
   "cell_type": "code",
   "execution_count": 93,
   "metadata": {
    "scrolled": false
   },
   "outputs": [
    {
     "data": {
      "image/png": "[encoded data removed]",
      "text/plain": [
       "<Figure size 1152x648 with 1 Axes>"
      ]
     },
     "metadata": {},
     "output_type": "display_data"
    }
   ],
   "source": [
    "%matplotlib inline \n",
    "\n",
    "#create data frame with PCA cluster results\n",
    "df = pd.DataFrame(dict(x=xs, y=ys, label=clusters, title=titles)) \n",
    "groups = df.groupby(clusters)\n",
    "\n",
    "# set up plot\n",
    "fig, ax = plt.subplots(figsize=(16, 9))\n",
    "#Set color for each cluster/group\n",
    "for name, group in groups:\n",
    "    ax.plot(group.x, group.y, marker='o', linestyle='', ms=12, \n",
    "            label=cluster_names[name], color=cluster_colors[name], \n",
    "            mec='none')\n",
    "\n",
    "ax.legend(numpoints=1,loc=1)  #show legend with only 1 point, position is right top.\n",
    "\n",
    "plt.show() #show the plot"
   ]
  },
  {
   "cell_type": "code",
   "execution_count": 21,
   "metadata": {},
   "outputs": [],
   "source": [
    "plt.close()"
   ]
  },
  {
   "cell_type": "markdown",
   "metadata": {},
   "source": [
    "# Part 5: Topic Modeling - Latent Dirichlet Allocation"
   ]
  },
  {
   "cell_type": "markdown",
   "metadata": {},
   "source": [
    "5.1 sklearn LDA, LDA requires interger, it cannot process float numbers."
   ]
  },
  {
   "cell_type": "code",
   "execution_count": 152,
   "metadata": {},
   "outputs": [],
   "source": [
    "from sklearn.decomposition import LatentDirichletAllocation\n",
    "lda_sk = LatentDirichletAllocation(n_components = 5, learning_method = 'online')"
   ]
  },
  {
   "cell_type": "code",
   "execution_count": 153,
   "metadata": {},
   "outputs": [],
   "source": [
    "tfidf_matrix_lda = (tfidf_matrix * 100)\n",
    "tfidf_matrix_lda = tfidf_matrix_lda.astype(int)"
   ]
  },
  {
   "cell_type": "code",
   "execution_count": 154,
   "metadata": {},
   "outputs": [
    {
     "data": {
      "text/plain": [
       "LatentDirichletAllocation(batch_size=128, doc_topic_prior=None,\n",
       "             evaluate_every=-1, learning_decay=0.7,\n",
       "             learning_method='online', learning_offset=10.0,\n",
       "             max_doc_update_iter=100, max_iter=10, mean_change_tol=0.001,\n",
       "             n_components=5, n_jobs=1, n_topics=None, perp_tol=0.1,\n",
       "             random_state=None, topic_word_prior=None,\n",
       "             total_samples=1000000.0, verbose=0)"
      ]
     },
     "execution_count": 154,
     "metadata": {},
     "output_type": "execute_result"
    }
   ],
   "source": [
    "lda_sk.fit(tfidf_matrix_lda)"
   ]
  },
  {
   "cell_type": "code",
   "execution_count": 155,
   "metadata": {},
   "outputs": [
    {
     "data": {
      "text/plain": [
       "array([[12.38477202,  1.10089332, 27.2685827 , ..., 19.61506684,\n",
       "         8.60340569, 14.88848291],\n",
       "       [34.5401686 ,  8.17805471, 11.37093489, ..., 57.61246405,\n",
       "        37.47655859, 62.75967948],\n",
       "       [13.28088199, 23.56108791,  9.09423878, ..., 61.00211221,\n",
       "        85.76310802, 33.41504979],\n",
       "       [ 8.10730487, 45.48095633, 21.05959158, ..., 35.95131471,\n",
       "        17.83143959, 38.00138196],\n",
       "       [ 4.99527328, 17.48693584, 16.54407945, ..., 34.90883997,\n",
       "        80.3303978 , 35.91251716]])"
      ]
     },
     "execution_count": 155,
     "metadata": {},
     "output_type": "execute_result"
    }
   ],
   "source": [
    "topic_word = lda_sk.components_\n",
    "topic_word"
   ]
  },
  {
   "cell_type": "code",
   "execution_count": 156,
   "metadata": {},
   "outputs": [
    {
     "data": {
      "text/plain": [
       "array(['abandon', 'involv', 'cross', 'jame', 'apart', 'suspect', 'posit',\n",
       "       'shout', 'intent', 'remind', 'slip', 'secret', 'met', 'drunk',\n",
       "       'child', 'attract', 'action', 'took', 'someth', 'troubl',\n",
       "       'prevent', 'news', 'desper', 'known', 'street', 've', 'everi',\n",
       "       'step', 'boy', 'wo', 'meanwhil', 'quiet', 'fli', 'heart', 'ago',\n",
       "       'declar', 'investig', 'assign', 'tear', 'reason', 'desert', 'hour',\n",
       "       'pack', 'confront', 'moment', 'mind', 'anyth', 'angri', 'accid',\n",
       "       'wish', 'earli', 'appar', 'present', 'ii', 'cri', 'cold', 'suffer',\n",
       "       'consid', 'unabl', 'reluct', 'wrong', 'concern', 'polic', 'figur',\n",
       "       'ring', 'parent', 'grab', 'struggl', 'movi', 'phone', 'understand',\n",
       "       'join', 'high', 'someon', 'remov', 'sister', 'condit', 'attent',\n",
       "       'crime', 'compani', 'evid', 'heard', 'dark', 'spend', 'strike',\n",
       "       'push', 'field', 'wear', 'insid', 'shock', 'collaps', 'accept',\n",
       "       'observ', 'seen', 'blow', 'notic', 'land', 'soldier', 'realli',\n",
       "       'general', 'argu', 'citi', 'mean', 'convers', 'report', 'note',\n",
       "       'propos', 'drive', 'air', 'chanc', 'pursu', 'engag', 'daughter',\n",
       "       'york', 'accus', 'differ', 'insist', 'act', 'spot', 'ensu',\n",
       "       'alway', 'confess', 'prove', 'fact', 'arm', 'word', 'share',\n",
       "       'instruct', 'elder', 'best', 'dress', 'bodi', 'direct', 'earlier',\n",
       "       'bad', 'mention', 'draw', 'job', 'line', 'happi', 'miss', 'wit',\n",
       "       'cloth', 'lie', 'afterward', 'storm', 'hire', 'previous', 'dead',\n",
       "       'book', 'view', 'point', 'admit', 'charg', 'provid', 'arrang',\n",
       "       'rush', 'career', 'great', 'proceed', 'georg', 'finish', 'defend',\n",
       "       'happen', 'eye', 'knock', 'thought', 'light', 'beg', 'stand',\n",
       "       'drop', 'immedi', 'hold', 'sleep', 'rememb', 'explain', 'privat',\n",
       "       'initi', 'angrili', 'confid', 'sent', 'nearbi', 'broken', 'build',\n",
       "       'scream', 'accompani', 'execut', 'experi', \"'d\", 'send', 'huge',\n",
       "       'warn', 'kiss', 'fall', 'dinner', 'pull', 'surviv', 'flee',\n",
       "       'event', 'soon', 'deliv', 'far', 'manag', 'busi', 'request',\n",
       "       'surround', 'chase', 'alreadi', 'hidden', 'deal', 'better',\n",
       "       'power', 'surpris', 'coupl', 'son', 'repeat', 'date', 'everyth',\n",
       "       'number', 'togeth', 'catch', 'possibl', 'murder', 'destroy',\n",
       "       'recov', 'case', 'remain', 'led', 'given', 'receiv', 'suicid',\n",
       "       'young', 'month', 'past', 'aliv', 'need', 'rest', 'grow', 'secur',\n",
       "       'silent', 'boss', 'continu', 'jump', 'bring', 'battl', 'convinc',\n",
       "       'trip', 'unit', 'free', 'thing', 'door', 'bed', 'noth', 'person',\n",
       "       'futur', 'near', 'seek', 'demand', 'watch', 'caus', 'result',\n",
       "       'arrest', 'told', 'offer', 'recogn', 'follow', 'readi', 'close',\n",
       "       'rescu', 'bar', 'lose', 'intend', 'lead', 'threaten', 'die',\n",
       "       'object', 'believ', 'worri', 'bare', 'walk', 'pay', 'got',\n",
       "       'depart', 'repli', 'problem', 'reveal', 'command', 'let', 'right',\n",
       "       'sit', 'prepar', 'instead', 'offic', 'brief', 'empti', 'persuad',\n",
       "       'chang', 'develop', 'listen', 'respons', 'late', 'year', 'wait',\n",
       "       'school', 'wall', 'commit', 'question', 'car', 'answer', 'claim',\n",
       "       'buy', 'mother', 'stop', 'think', 'promis', 'escort', 'gun',\n",
       "       'emerg', 'assum', 'fellow', 'hide', 'public', 'search',\n",
       "       'relationship', 'inform', 'complet', 'hear', 'success', 'climb',\n",
       "       'read', 'expect', 'determin', 'taken', 'away', 'area', 'lost',\n",
       "       'play', 'main', 'stori', 'floor', 'situat', 'hand', 'burn',\n",
       "       'encount', 'realiz', 'clear', 'pick', 'fear', 'entir', 'matter',\n",
       "       'includ', 'attempt', 'carri', 'place', 'actual', 'captur', 'fail',\n",
       "       'cut', 'drink', 'win', 'big', 'visit', 'alon', 'sudden', 'enter',\n",
       "       'sinc', 'short', 'crowd', 'forc', 'long', 'sever', 'insult', 'old',\n",
       "       'quick', 'write', 'break', 'stay', 'famili', 'state', 'death',\n",
       "       'ride', 'american', 'white', 'talk', 'gone', 'learn', 'idea',\n",
       "       'abl', 'discuss', 'father', 'reach', 'record', 'servic', 'attend',\n",
       "       'william', 'look', 'crimin', 'hit', 'discov', 'club', 'protect',\n",
       "       'travel', 'sign', 'approach', 'support', 'care', 'life', 'countri',\n",
       "       'real', 'anyon', 'introduc', 'meet', 'despit', 'morn', 'shoot',\n",
       "       'ca', 'cover', 'invit', 'member', 'second', 'music', 'armi',\n",
       "       'save', 'left', 'everyon', 'doctor', 'face', 'hang', 'week',\n",
       "       'mani', 'anoth', 'wound', 'women', 'danger', 'refus', 'suggest',\n",
       "       'open', 'parti', 'appear', 'shot', 'start', 'world', 'set',\n",
       "       'throw', 'allow', 'announc', 'releas', 'board', 'audienc',\n",
       "       'pictur', 'help', 'll', 'outsid', 'station', 'larg', 'want',\n",
       "       'good', 'eventu', 'scene', 'avoid', 'know', 'live', 'control',\n",
       "       'water', 'head', 'men', 'wife', 'beat', 'ship', 'hope', 'attack',\n",
       "       'agre', 'feel', 'woman', 'war', 'fight', 'peopl', 'serv', 'small',\n",
       "       'window', 'perform', 'pass', 'friend', 'room', 'night', 'final',\n",
       "       'assist', 'like', 'plan', 'husband', 'marriag', 'john', 'goe',\n",
       "       'local', 'say', 'way', 'end', 'run', 'voic', 'becom', 'danc',\n",
       "       'decid', 'home', 'robert', 'hospit', 'work', 'day', 'turn',\n",
       "       'marri', 'black', 'girl', 'love', 'order', 'howev', 'speak',\n",
       "       'hous', 'money', 'use', 'come', 'camp', 'train', 'new', 'arriv',\n",
       "       \"n't\", 'kill', 'film', 'ask', 'group', 'guard', 'escap', 'littl',\n",
       "       'brother', 'children', 'captain', 'town', 'prison', 'sing', 'mr.'],\n",
       "      dtype='<U12')"
      ]
     },
     "execution_count": 156,
     "metadata": {},
     "output_type": "execute_result"
    }
   ],
   "source": [
    "np.array(tf_selected_words)[np.argsort(topic_word[0])]"
   ]
  },
  {
   "cell_type": "code",
   "execution_count": 157,
   "metadata": {},
   "outputs": [],
   "source": [
    "n_top_words = 7\n",
    "topic_keywords_list = []\n",
    "for i, topic_dist in enumerate(topic_word):\n",
    "    #np.argsort()->sort by axis, and return index\n",
    "    lda_topic_words = np.array(tf_selected_words)[np.argsort(topic_dist)][:-n_top_words:-1]\n",
    "    for j in range(len(lda_topic_words)):\n",
    "        lda_topic_words[j] = vocab_frame_dict[lda_topic_words[j]]\n",
    "    topic_keywords_list.append(lda_topic_words.tolist())"
   ]
  },
  {
   "cell_type": "code",
   "execution_count": 158,
   "metadata": {},
   "outputs": [
    {
     "data": {
      "text/plain": [
       "[['mr.', 'singing', 'prison', 'town', 'captain', 'children'],\n",
       " ['water', 'mother', 'sister', 'father', 'love', 'house'],\n",
       " ['george', 'car', 'police', 'apartment', 'john', 'family'],\n",
       " ['army', 'soldiers', 'war', 'killing', 'general', 'commanded'],\n",
       " ['father', 'new', 'fight', 'york', 'job', 'rings']]"
      ]
     },
     "execution_count": 158,
     "metadata": {},
     "output_type": "execute_result"
    }
   ],
   "source": [
    "topic_keywords_list"
   ]
  },
  {
   "cell_type": "code",
   "execution_count": 159,
   "metadata": {},
   "outputs": [
    {
     "data": {
      "text/plain": [
       "(100, 5)"
      ]
     },
     "execution_count": 159,
     "metadata": {},
     "output_type": "execute_result"
    }
   ],
   "source": [
    "doc_topic = lda_sk.transform(tfidf_matrix_lda)\n",
    "doc_topic.shape"
   ]
  },
  {
   "cell_type": "code",
   "execution_count": 160,
   "metadata": {},
   "outputs": [
    {
     "name": "stdout",
     "output_type": "stream",
     "text": [
      "<Document clustering result by LDA_sklearn>\n",
      "Cluster 2 words: george, car, police, apartment, john, family\n",
      "Cluster 2titles (32 movies): \n",
      "The Godfather, Citizen Kane, The Godfather: Part II, Psycho, Sunset Blvd., On the Waterfront, Forrest Gump, West Side Story, E.T. the Extra-Terrestrial, It's a Wonderful Life, Amadeus, An American in Paris, The Apartment, Goodfellas, The French Connection, The King's Speech, A Place in the Sun, Rain Man, Tootsie, Fargo, The Green Mile, Close Encounters of the Third Kind, The Graduate, American Graffiti, Pulp Fiction, The Maltese Falcon, Taxi Driver, Wuthering Heights, Rebel Without a Cause, Rear Window, The Third Man, North by Northwest\n",
      "\n",
      "Cluster 0 words: mr., singing, prison, town, captain, children\n",
      "Cluster 0titles (17 movies): \n",
      "The Shawshank Redemption, Schindler's List, Raging Bull, One Flew Over the Cuckoo's Nest, The Sound of Music, 2001: A Space Odyssey, Singin' in the Rain, Unforgiven, To Kill a Mockingbird, My Fair Lady, High Noon, Out of Africa, The Grapes of Wrath, Nashville, The African Queen, Stagecoach, A Clockwork Orange\n",
      "\n",
      "Cluster 3 words: army, soldiers, war, killing, general, commanded\n",
      "Cluster 3titles (22 movies): \n",
      "Casablanca, Lawrence of Arabia, The Bridge on the River Kwai, 12 Angry Men, Dr. Strangelove or: How I Learned to Stop Worrying and Love the Bomb, Apocalypse Now, The Lord of the Rings: The Return of the King, Gladiator, From Here to Eternity, Saving Private Ryan, Patton, Braveheart, Butch Cassidy and the Sundance Kid, The Treasure of the Sierra Madre, Platoon, Dances with Wolves, The Pianist, The Deer Hunter, All Quiet on the Western Front, Mr. Smith Goes to Washington, Giant, Mutiny on the Bounty\n",
      "\n",
      "Cluster 1 words: water, mother, sister, father, love, house\n",
      "Cluster 1titles (20 movies): \n",
      "Gone with the Wind, The Wizard of Oz, Titanic, Vertigo, Star Wars, The Silence of the Lambs, Chinatown, Some Like It Hot, Gandhi, Raiders of the Lost Ark, A Streetcar Named Desire, The Philadelphia Story, The Best Years of Our Lives, Ben-Hur, Doctor Zhivago, Jaws, The Exorcist, Terms of Endearment, Double Indemnity, Yankee Doodle Dandy\n",
      "\n",
      "Cluster 4 words: father, new, fight, york, job, rings\n",
      "Cluster 4titles (9 movies): \n",
      "Rocky, The Good, the Bad and the Ugly, City Lights, It Happened One Night, Midnight Cowboy, Annie Hall, Good Will Hunting, Shane, Network\n",
      "\n"
     ]
    }
   ],
   "source": [
    "topic_doc_dict = {}\n",
    "print(\"<Document clustering result by LDA_sklearn>\")\n",
    "for i in range(len(doc_topic)):\n",
    "    topicID = doc_topic[i].argmax() #argmax()return index\n",
    "    if topicID not in topic_doc_dict:\n",
    "        topic_doc_dict[topicID] = [titles[i]]\n",
    "    else:\n",
    "        topic_doc_dict[topicID].append(titles[i])\n",
    "for i in topic_doc_dict:\n",
    "    print(\"Cluster \" + str(i) + \" words: \" + \", \".join(topic_keywords_list[i]))\n",
    "    print(\"Cluster \" + str(i) + \"titles (\" + str(len(topic_doc_dict[i])) + \" movies): \")\n",
    "    print(', '.join(topic_doc_dict[i]))\n",
    "    print()"
   ]
  },
  {
   "cell_type": "markdown",
   "metadata": {},
   "source": [
    "5.2 Another LDA"
   ]
  },
  {
   "cell_type": "code",
   "execution_count": 22,
   "metadata": {},
   "outputs": [],
   "source": [
    "#Now we use synopses to build a 100*538 matrix (terms)\n",
    "terms_dict = {tf_selected_words[x]:x for x in range(len(tf_selected_words))}\n",
    "\n",
    "feature_matrix_synopses_tf = []\n",
    "for i in synopses:\n",
    "    current_doc_stats = [0] * len(tf_selected_words)\n",
    "    allwords_stemmed = tokenization_and_stemming(i)\n",
    "    for get_terms in allwords_stemmed:\n",
    "        if get_terms in tf_selected_words:\n",
    "            current_doc_stats[terms_dict[get_terms]] += 1\n",
    "    current_doc_stats = np.asarray(current_doc_stats)\n",
    "    feature_matrix_synopses_tf.append(current_doc_stats)\n",
    "    \n",
    "feature_matrix_synopses_tf = np.asarray(feature_matrix_synopses_tf)"
   ]
  },
  {
   "cell_type": "code",
   "execution_count": 163,
   "metadata": {},
   "outputs": [],
   "source": [
    "model = lda.LDA(n_topics=5, n_iter=500, random_state=1)"
   ]
  },
  {
   "cell_type": "markdown",
   "metadata": {},
   "source": [
    "<li> \"model.topic_word_\" saves the importance of tf_selected_words in LDA model, i.e. words similarity matrix\n",
    "<li> The shape of \"model.topic_word_\" is (n_topics,num_of_selected_words)\n",
    "<li> \"model.doc_topic_\" saves the document topic results, i.e. document topic matrix.\n",
    "<li> The shape of \"model.doc_topic_\" is (num_of_documents, n_topics)"
   ]
  },
  {
   "cell_type": "code",
   "execution_count": 165,
   "metadata": {},
   "outputs": [
    {
     "name": "stderr",
     "output_type": "stream",
     "text": [
      "INFO:lda:n_documents: 100\n",
      "INFO:lda:vocab_size: 538\n",
      "INFO:lda:n_words: 61218\n",
      "INFO:lda:n_topics: 5\n",
      "INFO:lda:n_iter: 500\n",
      "INFO:lda:<0> log likelihood: -484683\n",
      "INFO:lda:<10> log likelihood: -428330\n",
      "INFO:lda:<20> log likelihood: -412489\n",
      "INFO:lda:<30> log likelihood: -406790\n",
      "INFO:lda:<40> log likelihood: -403019\n",
      "INFO:lda:<50> log likelihood: -400070\n",
      "INFO:lda:<60> log likelihood: -398296\n",
      "INFO:lda:<70> log likelihood: -397266\n",
      "INFO:lda:<80> log likelihood: -395732\n",
      "INFO:lda:<90> log likelihood: -395476\n",
      "INFO:lda:<100> log likelihood: -394666\n",
      "INFO:lda:<110> log likelihood: -394617\n",
      "INFO:lda:<120> log likelihood: -393980\n",
      "INFO:lda:<130> log likelihood: -393121\n",
      "INFO:lda:<140> log likelihood: -392773\n",
      "INFO:lda:<150> log likelihood: -392559\n",
      "INFO:lda:<160> log likelihood: -392274\n",
      "INFO:lda:<170> log likelihood: -391875\n",
      "INFO:lda:<180> log likelihood: -392254\n",
      "INFO:lda:<190> log likelihood: -391966\n",
      "INFO:lda:<200> log likelihood: -391777\n",
      "INFO:lda:<210> log likelihood: -391467\n",
      "INFO:lda:<220> log likelihood: -391043\n",
      "INFO:lda:<230> log likelihood: -391624\n",
      "INFO:lda:<240> log likelihood: -391707\n",
      "INFO:lda:<250> log likelihood: -391696\n",
      "INFO:lda:<260> log likelihood: -391673\n",
      "INFO:lda:<270> log likelihood: -391540\n",
      "INFO:lda:<280> log likelihood: -391234\n",
      "INFO:lda:<290> log likelihood: -390801\n",
      "INFO:lda:<300> log likelihood: -391805\n",
      "INFO:lda:<310> log likelihood: -392021\n",
      "INFO:lda:<320> log likelihood: -391969\n",
      "INFO:lda:<330> log likelihood: -390905\n",
      "INFO:lda:<340> log likelihood: -391478\n",
      "INFO:lda:<350> log likelihood: -390938\n",
      "INFO:lda:<360> log likelihood: -390935\n",
      "INFO:lda:<370> log likelihood: -390741\n",
      "INFO:lda:<380> log likelihood: -391222\n",
      "INFO:lda:<390> log likelihood: -390952\n",
      "INFO:lda:<400> log likelihood: -390668\n",
      "INFO:lda:<410> log likelihood: -390701\n",
      "INFO:lda:<420> log likelihood: -390636\n",
      "INFO:lda:<430> log likelihood: -390205\n",
      "INFO:lda:<440> log likelihood: -390684\n",
      "INFO:lda:<450> log likelihood: -390519\n",
      "INFO:lda:<460> log likelihood: -390995\n",
      "INFO:lda:<470> log likelihood: -390638\n",
      "INFO:lda:<480> log likelihood: -390798\n",
      "INFO:lda:<490> log likelihood: -390844\n",
      "INFO:lda:<499> log likelihood: -390644\n"
     ]
    }
   ],
   "source": [
    "model.fit(feature_matrix_synopses_tf)\n",
    "topic_word = model.topic_word_  # model.components_ also works\n",
    "n_top_words = 7\n",
    "\n",
    "topic_keywords_list = []\n",
    "for i, topic_dist in enumerate(topic_word):\n",
    "    #Here we select top(n_top_words-1)\n",
    "    lda_topic_words = np.array(tf_selected_words)[np.argsort(topic_dist)][:-n_top_words:-1] \n",
    "    for j in range(len(lda_topic_words)):\n",
    "        lda_topic_words[j] = vocab_frame_dict[lda_topic_words[j]]\n",
    "    topic_keywords_list.append(lda_topic_words.tolist())"
   ]
  },
  {
   "cell_type": "code",
   "execution_count": 166,
   "metadata": {
    "scrolled": false
   },
   "outputs": [
    {
     "name": "stdout",
     "output_type": "stream",
     "text": [
      "<Document clustering result by LDA>\n",
      "Cluster 2 words: father, family, new, end, life, years\n",
      "Cluster 2 titles (28 movies): \n",
      "The Godfather, Casablanca, Citizen Kane, The Godfather: Part II, Sunset Blvd., Forrest Gump, The Sound of Music, Singin' in the Rain, Amadeus, A Streetcar Named Desire, The Best Years of Our Lives, Doctor Zhivago, Braveheart, The Good, the Bad and the Ugly, Goodfellas, City Lights, The King's Speech, A Place in the Sun, Midnight Cowboy, Mr. Smith Goes to Washington, Rain Man, Annie Hall, Out of Africa, Good Will Hunting, Terms of Endearment, Giant, Network, Yankee Doodle Dandy\n",
      "\n",
      "Cluster 4 words: killing, death, men, use, john, shooting\n",
      "Cluster 4 titles (23 movies): \n",
      "The Shawshank Redemption, On the Waterfront, Star Wars, 2001: A Space Odyssey, Chinatown, The Bridge on the River Kwai, 12 Angry Men, Gladiator, From Here to Eternity, Saving Private Ryan, Unforgiven, Raiders of the Lost Ark, To Kill a Mockingbird, Jaws, Butch Cassidy and the Sundance Kid, The Treasure of the Sierra Madre, Platoon, High Noon, The Deer Hunter, Shane, The Green Mile, Close Encounters of the Third Kind, Taxi Driver\n",
      "\n",
      "Cluster 0 words: george, war, soldiers, army, captain, commanded\n",
      "Cluster 0 titles (10 movies): \n",
      "Schindler's List, Lawrence of Arabia, It's a Wonderful Life, Dr. Strangelove or: How I Learned to Stop Worrying and Love the Bomb, Apocalypse Now, The Lord of the Rings: The Return of the King, Patton, Dances with Wolves, Stagecoach, Mutiny on the Bounty\n",
      "\n",
      "Cluster 3 words: n't, days, friend, comes, say, house\n",
      "Cluster 3 titles (26 movies): \n",
      "Raging Bull, One Flew Over the Cuckoo's Nest, Gone with the Wind, The Wizard of Oz, Psycho, Vertigo, West Side Story, E.T. the Extra-Terrestrial, Some Like It Hot, Gandhi, Rocky, The Philadelphia Story, An American in Paris, My Fair Lady, Ben-Hur, The Exorcist, All Quiet on the Western Front, Tootsie, The Grapes of Wrath, Nashville, American Graffiti, Pulp Fiction, The African Queen, A Clockwork Orange, Wuthering Heights, The Third Man\n",
      "\n",
      "Cluster 1 words: car, away, police, meet, helping, apartment\n",
      "Cluster 1 titles (13 movies): \n",
      "Titanic, The Silence of the Lambs, The Apartment, The Pianist, The French Connection, It Happened One Night, Fargo, The Graduate, The Maltese Falcon, Double Indemnity, Rebel Without a Cause, Rear Window, North by Northwest\n",
      "\n"
     ]
    }
   ],
   "source": [
    "doc_topic = model.doc_topic_\n",
    "topic_doc_dict = {}\n",
    "\n",
    "print (\"<Document clustering result by LDA>\")\n",
    "for i in range(len(doc_topic)):\n",
    "    topicID = doc_topic[i].argmax()\n",
    "    if topicID not in topic_doc_dict:\n",
    "        topic_doc_dict[topicID] = [titles[i]]\n",
    "    else:\n",
    "        topic_doc_dict[topicID].append(titles[i])\n",
    "for i in topic_doc_dict:\n",
    "    print (\"Cluster \" + str(i) + \" words: \" + \", \".join(topic_keywords_list[i]))\n",
    "    print (\"Cluster \" + str(i) + \" titles (\" + str(len(topic_doc_dict[i])) + \" movies): \")\n",
    "    print (', '.join(topic_doc_dict[i]))\n",
    "    print ()"
   ]
  }
 ],
 "metadata": {
  "kernelspec": {
   "display_name": "Python 3",
   "language": "python",
   "name": "python3"
  },
  "language_info": {
   "codemirror_mode": {
    "name": "ipython",
    "version": 3
   },
   "file_extension": ".py",
   "mimetype": "text/x-python",
   "name": "python",
   "nbconvert_exporter": "python",
   "pygments_lexer": "ipython3",
   "version": "3.6.5"
  }
 },
 "nbformat": 4,
 "nbformat_minor": 1
}
